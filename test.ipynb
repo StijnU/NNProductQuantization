{
 "cells": [
  {
   "cell_type": "code",
   "execution_count": 12,
   "metadata": {},
   "outputs": [
    {
     "name": "stdout",
     "output_type": "stream",
     "text": [
      "Loading dataset spambase from\n",
      "    /Users/stijnuytterhoeven/School/5 2e Master/BDAP/3/assignment3_new/data/spambase.gz\n"
     ]
    }
   ],
   "source": [
    "import util\n",
    "xtrain, xtest, ytrain, ytest = util.load_dataset('spambase')"
   ]
  },
  {
   "cell_type": "code",
   "execution_count": 17,
   "metadata": {},
   "outputs": [
    {
     "data": {
      "text/plain": [
       "array([ 1.648421  ,  1.0535687 ,  0.80912936,  0.11284394,  0.8966986 ,\n",
       "        0.05259938,  0.8972306 ,  0.7174518 ,  0.7332018 , -0.5913505 ,\n",
       "        0.5493183 ,  0.05676008, -0.14265685,  0.11073078,  0.00247487,\n",
       "        0.11006342, -0.07854357,  0.06399236,  0.05470848,  0.29013294],\n",
       "      dtype=float32)"
      ]
     },
     "execution_count": 17,
     "metadata": {},
     "output_type": "execute_result"
    }
   ],
   "source": [
    "\n",
    "xtrain[1]"
   ]
  }
 ],
 "metadata": {
  "interpreter": {
   "hash": "7bd9ec4e731da86b53ad91ea2aa85252b702fe4c80a8906d75e80e005995b096"
  },
  "kernelspec": {
   "display_name": "Python 3.10.4 ('Amazon')",
   "language": "python",
   "name": "python3"
  },
  "language_info": {
   "codemirror_mode": {
    "name": "ipython",
    "version": 3
   },
   "file_extension": ".py",
   "mimetype": "text/x-python",
   "name": "python",
   "nbconvert_exporter": "python",
   "pygments_lexer": "ipython3",
   "version": "3.10.4"
  },
  "orig_nbformat": 4
 },
 "nbformat": 4,
 "nbformat_minor": 2
}
